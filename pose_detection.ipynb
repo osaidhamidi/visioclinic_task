{
 "cells": [
  {
   "cell_type": "markdown",
   "id": "ecda4db8",
   "metadata": {},
   "source": [
    "# Pose Detection Task\n",
    "\n",
    "This is a script that takes a video as input and outputs a video with pose & hand landmarks drawn to it using Google's Mediapipe library  <br>\n",
    "NOTE: Providing own OAuth credentials json file is needed. Once ready, change the creds_path variable in Paths cell"
   ]
  },
  {
   "cell_type": "markdown",
   "id": "7dc1d373",
   "metadata": {},
   "source": [
    "Download mediapipe "
   ]
  },
  {
   "cell_type": "code",
   "execution_count": null,
   "id": "226adfb2",
   "metadata": {},
   "outputs": [],
   "source": [
    "!pip install mediapipe "
   ]
  },
  {
   "cell_type": "markdown",
   "id": "59476b78",
   "metadata": {},
   "source": [
    "Download OpenCV "
   ]
  },
  {
   "cell_type": "code",
   "execution_count": null,
   "id": "e8108889",
   "metadata": {},
   "outputs": [],
   "source": [
    "!pip install opencv-python"
   ]
  },
  {
   "cell_type": "markdown",
   "id": "9b4d6fb4",
   "metadata": {},
   "source": [
    "Google API & Auth"
   ]
  },
  {
   "cell_type": "code",
   "execution_count": null,
   "id": "ca319f11",
   "metadata": {},
   "outputs": [],
   "source": [
    "!pip install --upgrade google-api-python-client google-auth-httplib2 google-auth-oauthlib"
   ]
  },
  {
   "cell_type": "markdown",
   "id": "c95436da",
   "metadata": {},
   "source": [
    "Pose Landmarker"
   ]
  },
  {
   "cell_type": "code",
   "execution_count": null,
   "id": "f801a5a1",
   "metadata": {},
   "outputs": [],
   "source": [
    "!wget -O pose_landmarker.task -q https://storage.googleapis.com/mediapipe-models/pose_landmarker/pose_landmarker_heavy/float16/1/pose_landmarker_heavy.task"
   ]
  },
  {
   "cell_type": "markdown",
   "id": "a476cae2",
   "metadata": {},
   "source": [
    "Hand Landmarker\n",
    " "
   ]
  },
  {
   "cell_type": "code",
   "execution_count": null,
   "id": "00ce28cb",
   "metadata": {},
   "outputs": [],
   "source": [
    "!wget -q https://storage.googleapis.com/mediapipe-models/hand_landmarker/hand_landmarker/float16/1/hand_landmarker.task"
   ]
  },
  {
   "cell_type": "code",
   "execution_count": null,
   "id": "866c89a1",
   "metadata": {},
   "outputs": [],
   "source": [
    "# Import necessary libraries\n",
    "from mediapipe import solutions\n",
    "from mediapipe.framework.formats import landmark_pb2\n",
    "import numpy as np"
   ]
  },
  {
   "cell_type": "code",
   "execution_count": null,
   "id": "7f1de35f",
   "metadata": {},
   "outputs": [],
   "source": [
    "# Drawing landmarks on the image \n",
    "# Provided by documentation\n",
    "\n",
    "def draw_pose_landmarks_on_image(rgb_image, detection_result):\n",
    "  pose_landmarks_list = detection_result.pose_landmarks\n",
    "  annotated_image = np.copy(rgb_image)\n",
    "\n",
    "  # Loop through the detected poses to visualize.\n",
    "  for idx in range(len(pose_landmarks_list)):\n",
    "    pose_landmarks = pose_landmarks_list[idx]\n",
    "\n",
    "    # Draw the pose landmarks.\n",
    "    pose_landmarks_proto = landmark_pb2.NormalizedLandmarkList()\n",
    "    pose_landmarks_proto.landmark.extend([\n",
    "      landmark_pb2.NormalizedLandmark(x=landmark.x, y=landmark.y, z=landmark.z) for landmark in pose_landmarks\n",
    "    ])\n",
    "    solutions.drawing_utils.draw_landmarks(\n",
    "      annotated_image,\n",
    "      pose_landmarks_proto,\n",
    "      solutions.pose.POSE_CONNECTIONS,\n",
    "      solutions.drawing_styles.get_default_pose_landmarks_style())\n",
    "  return annotated_image"
   ]
  },
  {
   "cell_type": "code",
   "execution_count": null,
   "id": "ae871994",
   "metadata": {},
   "outputs": [],
   "source": [
    "# Drawing landmarks on the image \n",
    "# Provided by documentation\n",
    "\n",
    "MARGIN = 10  # pixels\n",
    "FONT_SIZE = 1\n",
    "FONT_THICKNESS = 1\n",
    "HANDEDNESS_TEXT_COLOR = (88, 205, 54) # vibrant green\n",
    "\n",
    "def draw_hand_landmarks_on_image(rgb_image, detection_result):\n",
    "  hand_landmarks_list = detection_result.hand_landmarks\n",
    "  handedness_list = detection_result.handedness\n",
    "  annotated_image = np.copy(rgb_image)\n",
    "\n",
    "  # Loop through the detected hands to visualize.\n",
    "  for idx in range(len(hand_landmarks_list)):\n",
    "    hand_landmarks = hand_landmarks_list[idx]\n",
    "    handedness = handedness_list[idx]\n",
    "\n",
    "    # Draw the hand landmarks.\n",
    "    hand_landmarks_proto = landmark_pb2.NormalizedLandmarkList()\n",
    "    hand_landmarks_proto.landmark.extend([\n",
    "      landmark_pb2.NormalizedLandmark(x=landmark.x, y=landmark.y, z=landmark.z) for landmark in hand_landmarks\n",
    "    ])\n",
    "    solutions.drawing_utils.draw_landmarks(\n",
    "      annotated_image,\n",
    "      hand_landmarks_proto,\n",
    "      solutions.hands.HAND_CONNECTIONS,\n",
    "      solutions.drawing_styles.get_default_hand_landmarks_style(),\n",
    "      solutions.drawing_styles.get_default_hand_connections_style())\n",
    "\n",
    "    # Get the top left corner of the detected hand's bounding box.\n",
    "    height, width, _ = annotated_image.shape\n",
    "    x_coordinates = [landmark.x for landmark in hand_landmarks]\n",
    "    y_coordinates = [landmark.y for landmark in hand_landmarks]\n",
    "    text_x = int(min(x_coordinates) * width)\n",
    "    text_y = int(min(y_coordinates) * height) - MARGIN\n",
    "\n",
    "    # Draw handedness (left or right hand) on the image.\n",
    "    cv2.putText(annotated_image, f\"{handedness[0].category_name}\",\n",
    "                (text_x, text_y), cv2.FONT_HERSHEY_DUPLEX,\n",
    "                FONT_SIZE, HANDEDNESS_TEXT_COLOR, FONT_THICKNESS, cv2.LINE_AA)\n",
    "\n",
    "  return annotated_image"
   ]
  },
  {
   "cell_type": "code",
   "execution_count": null,
   "id": "70c8c6b5",
   "metadata": {},
   "outputs": [],
   "source": [
    "# Import mediapipe \n",
    "import mediapipe as mp\n",
    "from mediapipe.tasks import python\n",
    "from mediapipe.tasks.python import vision\n",
    "import cv2"
   ]
  },
  {
   "cell_type": "markdown",
   "id": "7cc8ca93",
   "metadata": {},
   "source": [
    "Paths"
   ]
  },
  {
   "cell_type": "code",
   "execution_count": null,
   "id": "d02a8f0f",
   "metadata": {},
   "outputs": [],
   "source": [
    "# Tasks paths\n",
    "pose_path = \"pose_landmarker.task\"\n",
    "hand_path = \"hand_landmarker.task\"\n",
    "creds_path = 'creds.json'  \n",
    "token_path = 'token.json'  \n"
   ]
  },
  {
   "cell_type": "code",
   "execution_count": null,
   "id": "bd49d42a",
   "metadata": {},
   "outputs": [],
   "source": [
    "from googleapiclient.discovery import build\n",
    "from googleapiclient.http import MediaIoBaseDownload\n",
    "from google_auth_oauthlib.flow import InstalledAppFlow\n",
    "from google.oauth2.credentials import Credentials\n",
    "import io, os\n",
    "\n",
    "# Allow read-only access\n",
    "SCOPES = ['https://www.googleapis.com/auth/drive.readonly']\n",
    "\n",
    "# Authenticate\n",
    "creds = None\n",
    "\n",
    "if os.path.exists(token_path):\n",
    "    creds = Credentials.from_authorized_user_file(token_path, SCOPES)\n",
    "\n",
    "if not creds or not creds.valid:\n",
    "    login = InstalledAppFlow.from_client_secrets_file(creds_path, SCOPES)\n",
    "    creds = login.run_local_server(port=0)\n",
    "\n",
    "    # Save token \n",
    "    with open(token_path, 'w') as token_file:\n",
    "        token_file.write(creds.to_json())\n",
    "\n",
    "# Connect to Drive \n",
    "connection = build('drive', 'v3', credentials=creds)\n",
    " \n",
    "\n",
    "# List .mp4 videos \n",
    "results = connection.files().list(\n",
    "    q=\"mimeType='video/mp4'\",\n",
    "    fields=\"files(id, name)\"\n",
    ").execute()\n",
    "\n",
    "files = results.get('files', [])\n",
    "\n",
    "if not files:\n",
    "    print(\"No mp4 videos found.\")\n",
    "    exit()\n",
    "\n",
    "print(\"Available videos:\")\n",
    "for i, f in enumerate(files):\n",
    "    print(i,\":\",f['name'])\n",
    "\n",
    "\n"
   ]
  },
  {
   "cell_type": "code",
   "execution_count": null,
   "id": "32c45b80",
   "metadata": {},
   "outputs": [],
   "source": [
    "# Choose a video\n",
    "idx = int(input(\"\\nEnter index of video: \"))\n",
    "file = files[idx]\n",
    "selected_file = files[idx] \n",
    "file_id = selected_file['id'] \n",
    "file_name = selected_file['name']\n",
    "\n",
    "# Download video\n",
    "request = connection.files().get_media(fileId=file['id'])\n",
    "with io.FileIO(file['name'], 'wb') as fh:\n",
    "    downloader = MediaIoBaseDownload(fh, request)\n",
    "    done = False\n",
    "    while not done:\n",
    "        status, done = downloader.next_chunk()\n"
   ]
  },
  {
   "cell_type": "code",
   "execution_count": null,
   "id": "631bd1c9",
   "metadata": {},
   "outputs": [],
   "source": [
    "\n",
    "# Setting up the tasks\n",
    "BaseOptions = mp.tasks.BaseOptions\n",
    "PoseLandmarker = mp.tasks.vision.PoseLandmarker\n",
    "PoseLandmarkerOptions = mp.tasks.vision.PoseLandmarkerOptions\n",
    "HandLandmarker = mp.tasks.vision.HandLandmarker\n",
    "HandLandmarkerOptions = mp.tasks.vision.HandLandmarkerOptions\n",
    "VisionRunningMode = mp.tasks.vision.RunningMode\n",
    "\n",
    "pose_options = PoseLandmarkerOptions(\n",
    "    base_options=BaseOptions(model_asset_path=pose_path),\n",
    "    running_mode=VisionRunningMode.VIDEO\n",
    ")\n",
    "\n",
    "hand_options = HandLandmarkerOptions(\n",
    "    base_options=BaseOptions(model_asset_path=hand_path),\n",
    "    running_mode=VisionRunningMode.VIDEO)\n",
    "\n",
    "# Capturing the video\n",
    "cap = cv2.VideoCapture(file_name)\n",
    "\n",
    "# Timestamps calculation\n",
    "fps = 30\n",
    "frame_time_ms = 1000.0 / fps\n",
    "timestamp_ms = 0.0\n",
    "\n",
    "#  Setting up output video\n",
    "width = int(cap.get(cv2.CAP_PROP_FRAME_WIDTH))\n",
    "height = int(cap.get(cv2.CAP_PROP_FRAME_HEIGHT))\n",
    "fourcc = cv2.VideoWriter_fourcc(*'mp4v')\n",
    "out = cv2.VideoWriter('out.mp4', fourcc, fps, (width, height))\n",
    "\n",
    "with PoseLandmarker.create_from_options(pose_options) as pose_landmarker, HandLandmarker.create_from_options(hand_options) as hand_landmarker:\n",
    "    while cap.isOpened():\n",
    "        success, frame = cap.read()\n",
    "        if not success:\n",
    "            break\n",
    "\n",
    "        # color\n",
    "        frame_rgb = cv2.cvtColor(frame, cv2.COLOR_BGR2RGB)\n",
    "        \n",
    "        # convert to mp object\n",
    "        mp_image = mp.Image(image_format=mp.ImageFormat.SRGB, data=frame_rgb)\n",
    "\n",
    "        # detect poses for this frame\n",
    "        pose_result = pose_landmarker.detect_for_video(mp_image, int(timestamp_ms))\n",
    "        hand_result = hand_landmarker.detect_for_video(mp_image, int(timestamp_ms))\n",
    "\n",
    "        # draw landmarks\n",
    "        annotated_image = draw_pose_landmarks_on_image(mp_image.numpy_view(), pose_result)\n",
    "        annotated_image = draw_hand_landmarks_on_image(annotated_image, hand_result)\n",
    "        cv2.imshow(\"Pose Detection\", cv2.cvtColor(annotated_image, cv2.COLOR_RGB2BGR))\n",
    "\n",
    "        # RGB coloring\n",
    "        annotated_bgr = cv2.cvtColor(annotated_image, cv2.COLOR_RGB2BGR)\n",
    "\n",
    "        out.write(annotated_bgr)\n",
    "        if cv2.waitKey(1) & 0xFF == ord('q'):\n",
    "            break\n",
    "\n",
    "        \n",
    "        timestamp_ms += frame_time_ms\n",
    "\n",
    "cap.release()\n",
    "out.release()\n",
    "cv2.destroyAllWindows()\n"
   ]
  },
  {
   "cell_type": "markdown",
   "id": "a41d5a3f",
   "metadata": {},
   "source": [
    "### Sample Results"
   ]
  },
  {
   "cell_type": "markdown",
   "id": "d1519b42",
   "metadata": {},
   "source": [
    "![Alternative text for the image](img1.png)\n",
    "![Alternative text for the image](img2.png)"
   ]
  }
 ],
 "metadata": {
  "kernelspec": {
   "display_name": "venv (3.12.2)",
   "language": "python",
   "name": "python3"
  },
  "language_info": {
   "codemirror_mode": {
    "name": "ipython",
    "version": 3
   },
   "file_extension": ".py",
   "mimetype": "text/x-python",
   "name": "python",
   "nbconvert_exporter": "python",
   "pygments_lexer": "ipython3",
   "version": "3.12.2"
  }
 },
 "nbformat": 4,
 "nbformat_minor": 5
}
